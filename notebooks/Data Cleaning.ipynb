{
 "cells": [
  {
   "cell_type": "markdown",
   "metadata": {},
   "source": [
    "**20BEC1131**\n",
    "*DAC Task 1 - Regression Problem - Apple Stocks*"
   ]
  },
  {
   "cell_type": "code",
   "execution_count": 27,
   "metadata": {},
   "outputs": [],
   "source": [
    "#imports\n",
    "import pandas as pd\n",
    "import numpy as np\n",
    "import matplotlib.pyplot as plt\n",
    "import seaborn as sns"
   ]
  },
  {
   "cell_type": "code",
   "execution_count": 28,
   "metadata": {},
   "outputs": [
    {
     "name": "stdout",
     "output_type": "stream",
     "text": [
      "<class 'pandas.core.frame.DataFrame'>\n",
      "RangeIndex: 1761 entries, 0 to 1760\n",
      "Data columns (total 7 columns):\n",
      " #   Column     Non-Null Count  Dtype  \n",
      "---  ------     --------------  -----  \n",
      " 0   Date       1761 non-null   object \n",
      " 1   Open       1761 non-null   float64\n",
      " 2   High       1761 non-null   float64\n",
      " 3   Low        1761 non-null   float64\n",
      " 4   Close      1761 non-null   float64\n",
      " 5   Adj Close  1761 non-null   float64\n",
      " 6   Volume     1761 non-null   int64  \n",
      "dtypes: float64(5), int64(1), object(1)\n",
      "memory usage: 96.4+ KB\n"
     ]
    }
   ],
   "source": [
    "#reading csv\n",
    "df1 = pd.read_csv(\"..\\data\\Apple.csv\")\n",
    "df1.info()\n",
    "#we can see there are no null values but for the sake of it"
   ]
  },
  {
   "cell_type": "code",
   "execution_count": 29,
   "metadata": {},
   "outputs": [
    {
     "data": {
      "text/html": [
       "<div>\n",
       "<style scoped>\n",
       "    .dataframe tbody tr th:only-of-type {\n",
       "        vertical-align: middle;\n",
       "    }\n",
       "\n",
       "    .dataframe tbody tr th {\n",
       "        vertical-align: top;\n",
       "    }\n",
       "\n",
       "    .dataframe thead th {\n",
       "        text-align: right;\n",
       "    }\n",
       "</style>\n",
       "<table border=\"1\" class=\"dataframe\">\n",
       "  <thead>\n",
       "    <tr style=\"text-align: right;\">\n",
       "      <th></th>\n",
       "      <th>Open</th>\n",
       "      <th>High</th>\n",
       "      <th>Low</th>\n",
       "      <th>Close</th>\n",
       "      <th>Adj Close</th>\n",
       "      <th>Volume</th>\n",
       "    </tr>\n",
       "  </thead>\n",
       "  <tbody>\n",
       "    <tr>\n",
       "      <th>0</th>\n",
       "      <td>27.847500</td>\n",
       "      <td>27.860001</td>\n",
       "      <td>26.837500</td>\n",
       "      <td>27.332500</td>\n",
       "      <td>24.745996</td>\n",
       "      <td>212818400</td>\n",
       "    </tr>\n",
       "    <tr>\n",
       "      <th>1</th>\n",
       "      <td>27.072500</td>\n",
       "      <td>27.162500</td>\n",
       "      <td>26.352501</td>\n",
       "      <td>26.562500</td>\n",
       "      <td>24.048864</td>\n",
       "      <td>257142000</td>\n",
       "    </tr>\n",
       "    <tr>\n",
       "      <th>2</th>\n",
       "      <td>26.635000</td>\n",
       "      <td>26.857500</td>\n",
       "      <td>26.157499</td>\n",
       "      <td>26.565001</td>\n",
       "      <td>24.051125</td>\n",
       "      <td>263188400</td>\n",
       "    </tr>\n",
       "    <tr>\n",
       "      <th>3</th>\n",
       "      <td>26.799999</td>\n",
       "      <td>27.049999</td>\n",
       "      <td>26.674999</td>\n",
       "      <td>26.937500</td>\n",
       "      <td>24.388372</td>\n",
       "      <td>160423600</td>\n",
       "    </tr>\n",
       "    <tr>\n",
       "      <th>4</th>\n",
       "      <td>27.307501</td>\n",
       "      <td>28.037500</td>\n",
       "      <td>27.174999</td>\n",
       "      <td>27.972500</td>\n",
       "      <td>25.325430</td>\n",
       "      <td>237458000</td>\n",
       "    </tr>\n",
       "  </tbody>\n",
       "</table>\n",
       "</div>"
      ],
      "text/plain": [
       "        Open       High        Low      Close  Adj Close     Volume\n",
       "0  27.847500  27.860001  26.837500  27.332500  24.745996  212818400\n",
       "1  27.072500  27.162500  26.352501  26.562500  24.048864  257142000\n",
       "2  26.635000  26.857500  26.157499  26.565001  24.051125  263188400\n",
       "3  26.799999  27.049999  26.674999  26.937500  24.388372  160423600\n",
       "4  27.307501  28.037500  27.174999  27.972500  25.325430  237458000"
      ]
     },
     "execution_count": 29,
     "metadata": {},
     "output_type": "execute_result"
    }
   ],
   "source": [
    "df1 = df1.dropna()\n",
    "df1 = df1.drop(columns=[\"Date\"]) #not doing anything related to date\n",
    "df1.head()"
   ]
  },
  {
   "cell_type": "code",
   "execution_count": 37,
   "metadata": {},
   "outputs": [
    {
     "name": "stdout",
     "output_type": "stream",
     "text": [
      "<class 'pandas.core.frame.DataFrame'>\n",
      "Int64Index: 1761 entries, 0 to 1760\n",
      "Data columns (total 6 columns):\n",
      " #   Column     Non-Null Count  Dtype  \n",
      "---  ------     --------------  -----  \n",
      " 0   Open       1761 non-null   float64\n",
      " 1   High       1761 non-null   float64\n",
      " 2   Low        1761 non-null   float64\n",
      " 3   Close      1761 non-null   float64\n",
      " 4   Adj Close  1761 non-null   float64\n",
      " 5   Volume     1761 non-null   float64\n",
      "dtypes: float64(6)\n",
      "memory usage: 160.8 KB\n"
     ]
    }
   ],
   "source": [
    "#since volume is in big numbers we divide it by a million\n",
    "temp = np.array(df1[\"Volume\"])\n",
    "\n",
    "def bymill(numb):\n",
    "    #function to divide a number by million\n",
    "    numb = numb/1000000\n",
    "    return numb\n",
    "\n",
    "bymill_v = np.vectorize(bymill)\n",
    "finvol = bymill_v(temp)\n",
    "finvol\n",
    "df1.drop(columns=[\"Volume\"])\n",
    "df1[\"Volume\"] = finvol;\n",
    "df1.info()"
   ]
  },
  {
   "cell_type": "code",
   "execution_count": 38,
   "metadata": {},
   "outputs": [
    {
     "data": {
      "text/html": [
       "<div>\n",
       "<style scoped>\n",
       "    .dataframe tbody tr th:only-of-type {\n",
       "        vertical-align: middle;\n",
       "    }\n",
       "\n",
       "    .dataframe tbody tr th {\n",
       "        vertical-align: top;\n",
       "    }\n",
       "\n",
       "    .dataframe thead th {\n",
       "        text-align: right;\n",
       "    }\n",
       "</style>\n",
       "<table border=\"1\" class=\"dataframe\">\n",
       "  <thead>\n",
       "    <tr style=\"text-align: right;\">\n",
       "      <th></th>\n",
       "      <th>Open</th>\n",
       "      <th>High</th>\n",
       "      <th>Low</th>\n",
       "      <th>Close</th>\n",
       "      <th>Adjusted Closing Amount</th>\n",
       "      <th>Volume Traded (in Millions)</th>\n",
       "    </tr>\n",
       "  </thead>\n",
       "  <tbody>\n",
       "    <tr>\n",
       "      <th>0</th>\n",
       "      <td>27.847500</td>\n",
       "      <td>27.860001</td>\n",
       "      <td>26.837500</td>\n",
       "      <td>27.332500</td>\n",
       "      <td>24.745996</td>\n",
       "      <td>0.000213</td>\n",
       "    </tr>\n",
       "    <tr>\n",
       "      <th>1</th>\n",
       "      <td>27.072500</td>\n",
       "      <td>27.162500</td>\n",
       "      <td>26.352501</td>\n",
       "      <td>26.562500</td>\n",
       "      <td>24.048864</td>\n",
       "      <td>0.000257</td>\n",
       "    </tr>\n",
       "    <tr>\n",
       "      <th>2</th>\n",
       "      <td>26.635000</td>\n",
       "      <td>26.857500</td>\n",
       "      <td>26.157499</td>\n",
       "      <td>26.565001</td>\n",
       "      <td>24.051125</td>\n",
       "      <td>0.000263</td>\n",
       "    </tr>\n",
       "    <tr>\n",
       "      <th>3</th>\n",
       "      <td>26.799999</td>\n",
       "      <td>27.049999</td>\n",
       "      <td>26.674999</td>\n",
       "      <td>26.937500</td>\n",
       "      <td>24.388372</td>\n",
       "      <td>0.000160</td>\n",
       "    </tr>\n",
       "    <tr>\n",
       "      <th>4</th>\n",
       "      <td>27.307501</td>\n",
       "      <td>28.037500</td>\n",
       "      <td>27.174999</td>\n",
       "      <td>27.972500</td>\n",
       "      <td>25.325430</td>\n",
       "      <td>0.000237</td>\n",
       "    </tr>\n",
       "  </tbody>\n",
       "</table>\n",
       "</div>"
      ],
      "text/plain": [
       "        Open       High        Low      Close  Adjusted Closing Amount  \\\n",
       "0  27.847500  27.860001  26.837500  27.332500                24.745996   \n",
       "1  27.072500  27.162500  26.352501  26.562500                24.048864   \n",
       "2  26.635000  26.857500  26.157499  26.565001                24.051125   \n",
       "3  26.799999  27.049999  26.674999  26.937500                24.388372   \n",
       "4  27.307501  28.037500  27.174999  27.972500                25.325430   \n",
       "\n",
       "   Volume Traded (in Millions)  \n",
       "0                     0.000213  \n",
       "1                     0.000257  \n",
       "2                     0.000263  \n",
       "3                     0.000160  \n",
       "4                     0.000237  "
      ]
     },
     "execution_count": 38,
     "metadata": {},
     "output_type": "execute_result"
    }
   ],
   "source": [
    "#renaming some columns for better understanding\n",
    "df1.rename({\"Adj Close\":\"Adjusted Closing Amount\"}, axis = 1, inplace=True)\n",
    "df1.rename({\"Volume\":\"Volume Traded (in Millions)\"}, axis=1, inplace=True)\n",
    "df1.head()"
   ]
  },
  {
   "cell_type": "markdown",
   "metadata": {},
   "source": [
    "**Drawing some plots for some insights**"
   ]
  },
  {
   "cell_type": "code",
   "execution_count": 42,
   "metadata": {},
   "outputs": [
    {
     "data": {
      "image/png": "[encoded data removed]",
      "text/plain": [
       "<Figure size 432x288 with 1 Axes>"
      ]
     },
     "metadata": {
      "needs_background": "light"
     },
     "output_type": "display_data"
    }
   ],
   "source": [
    "#plotting open vs high\n",
    "plt.xlabel(\"Opening Price (daily)\")\n",
    "plt.ylabel(\"High Price (daily)\")\n",
    "bar1 = plt.bar(df1[\"Open\"],df1[\"High\"],width=0.2)"
   ]
  },
  {
   "cell_type": "code",
   "execution_count": 43,
   "metadata": {},
   "outputs": [
    {
     "data": {
      "image/png": "[encoded data removed]",
      "text/plain": [
       "<Figure size 432x288 with 1 Axes>"
      ]
     },
     "metadata": {
      "needs_background": "light"
     },
     "output_type": "display_data"
    }
   ],
   "source": [
    "plt.xlabel(\"Lowest Price (daily)\")\n",
    "plt.ylabel(\"Closing Price (daily)\")\n",
    "bar2 = plt.bar(df1[\"Low\"], df1[\"Close\"])\n"
   ]
  },
  {
   "cell_type": "code",
   "execution_count": 45,
   "metadata": {},
   "outputs": [
    {
     "data": {
      "image/png": "[encoded data removed]",
      "text/plain": [
       "<Figure size 432x288 with 1 Axes>"
      ]
     },
     "metadata": {
      "needs_background": "light"
     },
     "output_type": "display_data"
    }
   ],
   "source": [
    "plt.xlabel(\"Highest Price (daily)\")\n",
    "plt.ylabel(\"Volume Traded in M (daily)\")\n",
    "bar3 = plt.bar(df1[\"High\"], df1[\"Volume Traded (in Millions)\"])"
   ]
  },
  {
   "cell_type": "markdown",
   "metadata": {},
   "source": [
    "We can see how there is a visible correlation in Open vs High and Close vs Low"
   ]
  },
  {
   "cell_type": "code",
   "execution_count": 47,
   "metadata": {},
   "outputs": [
    {
     "name": "stdout",
     "output_type": "stream",
     "text": [
      "<class 'pandas.core.frame.DataFrame'>\n",
      "Int64Index: 1410 entries, 0 to 1409\n",
      "Data columns (total 6 columns):\n",
      " #   Column                       Non-Null Count  Dtype  \n",
      "---  ------                       --------------  -----  \n",
      " 0   Open                         1410 non-null   float64\n",
      " 1   High                         1410 non-null   float64\n",
      " 2   Low                          1410 non-null   float64\n",
      " 3   Close                        1410 non-null   float64\n",
      " 4   Adjusted Closing Amount      1410 non-null   float64\n",
      " 5   Volume Traded (in Millions)  1410 non-null   float64\n",
      "dtypes: float64(6)\n",
      "memory usage: 77.1 KB\n",
      "\n",
      "\n",
      "<class 'pandas.core.frame.DataFrame'>\n",
      "Int64Index: 351 entries, 1410 to 1760\n",
      "Data columns (total 6 columns):\n",
      " #   Column                       Non-Null Count  Dtype  \n",
      "---  ------                       --------------  -----  \n",
      " 0   Open                         351 non-null    float64\n",
      " 1   High                         351 non-null    float64\n",
      " 2   Low                          351 non-null    float64\n",
      " 3   Close                        351 non-null    float64\n",
      " 4   Adjusted Closing Amount      351 non-null    float64\n",
      " 5   Volume Traded (in Millions)  351 non-null    float64\n",
      "dtypes: float64(6)\n",
      "memory usage: 19.2 KB\n"
     ]
    }
   ],
   "source": [
    "#creating test and train samples\n",
    "splitval = round(1761*0.8) + 1 \n",
    "dat_80, dat_20 = df1.iloc[:splitval,:], df1.iloc[splitval:1761,:]\n",
    "dat_80.info()\n",
    "print(\"\\n\")\n",
    "dat_20.info()"
   ]
  },
  {
   "cell_type": "code",
   "execution_count": null,
   "metadata": {},
   "outputs": [],
   "source": [
    "#exporting csv\n",
    "dat_80.to_csv(\"../data/apple_final_train.csv\", index=False)\n",
    "dat_20.to_csv(\"../data/apple_final_test.csv\", index=False)"
   ]
  }
 ],
 "metadata": {
  "interpreter": {
   "hash": "d0ae4efbb2ccb2721dd38f7849d89599487e4b34262eb185302eb73572efed35"
  },
  "kernelspec": {
   "display_name": "Python 3.9.9 64-bit (windows store)",
   "language": "python",
   "name": "python3"
  },
  "language_info": {
   "codemirror_mode": {
    "name": "ipython",
    "version": 3
   },
   "file_extension": ".py",
   "mimetype": "text/x-python",
   "name": "python",
   "nbconvert_exporter": "python",
   "pygments_lexer": "ipython3",
   "version": "3.9.9"
  },
  "orig_nbformat": 4
 },
 "nbformat": 4,
 "nbformat_minor": 2
}
